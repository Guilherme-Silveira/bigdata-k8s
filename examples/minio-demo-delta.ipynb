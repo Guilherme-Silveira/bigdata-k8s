{
 "cells": [
  {
   "cell_type": "code",
   "execution_count": null,
   "id": "8bad0f47-fb3f-42cc-8a3c-66163ce37a56",
   "metadata": {},
   "outputs": [],
   "source": [
    "from pyspark import SparkContext, SparkConf\n",
    "from pyspark.sql import SparkSession\n",
    "from pyspark.sql.functions import *\n",
    "from pyspark.sql.types import *\n",
    "\n",
    "conf = SparkConf()\n",
    " \n",
    "conf.setMaster(\"k8s://https://kubernetes.default:443\")\n",
    "\n",
    "conf.setAppName(\"Spark minIO Test\")\n",
    "conf.set(\"spark.hadoop.fs.s3a.endpoint\", \"http://minio-minio-storage:9000\")\n",
    "conf.set(\"spark.hadoop.fs.s3a.access.key\", \"silveira\")\n",
    "conf.set(\"spark.hadoop.fs.s3a.secret.key\", \"guilherme@123\")\n",
    "conf.set(\"spark.hadoop.fs.s3a.path.style.access\", True)\n",
    "conf.set(\"spark.hadoop.fs.s3a.impl\", \"org.apache.hadoop.fs.s3a.S3AFileSystem\")\n",
    "conf.set('spark.hadoop.fs.s3a.aws.credentials.provider', 'org.apache.hadoop.fs.s3a.SimpleAWSCredentialsProvider')\n",
    "conf.set(\"spark.kubernetes.container.image\", \"guisilveira/spark-base\") \n",
    "conf.set(\"spark.kubernetes.container.image.pullPolicy\", \"Always\")\n",
    "conf.set(\"spark.kubernetes.authenticate.caCertFile\", \"/run/secrets/kubernetes.io/serviceaccount/ca.crt\")\n",
    "conf.set(\"spark.kubernetes.authenticate.oauthTokenFile\", \"/run/secrets/kubernetes.io/serviceaccount/token\")\n",
    "conf.set(\"spark.kubernetes.namespace\", \"bigdata\")\n",
    "conf.set(\"spark.kubernetes.authenticate.driver.serviceAccountName\", \"jupyterhub\")\n",
    "conf.set(\"spark.sql.extensions\", \"io.delta.sql.DeltaSparkSessionExtension\")\n",
    "conf.set(\"spark.sql.catalog.spark_catalog\", \"org.apache.spark.sql.delta.catalog.DeltaCatalog\") \n",
    "conf.set(\"spark.executor.instances\", \"2\")\n",
    "conf.set(\"spark.executor.memory\", \"2g\")\n",
    "conf.set(\"spark.driver.bindAddress\", \"0.0.0.0\")\n",
    "conf.set(\"spark.driver.host\", \"jupyterhub\") \n",
    "conf.set(\"spark.driver.port\", 7078)\n",
    "conf.set(\"spark.driver.blockManager.port\", 7079)\n",
    "conf.set(\"hive.metastore.uris\", \"thrift://hive:9083\")\n",
    "\n",
    "spark = SparkSession.builder.config(conf=conf).enableHiveSupport().getOrCreate()"
   ]
  },
  {
   "cell_type": "markdown",
   "id": "8a3cf4bf-c3f3-4d42-ac13-3fccd2475341",
   "metadata": {},
   "source": [
    "# Landing Layer"
   ]
  },
  {
   "cell_type": "code",
   "execution_count": null,
   "id": "2747adf9-f584-4fa5-acf9-41e97e1bc301",
   "metadata": {},
   "outputs": [],
   "source": [
    "df_titles = spark.read.option('inferschema', 'true').option('header', 'true').csv('s3a://bronze/titles')\n",
    "df_credits = spark.read.option('inferschema', 'true').option('header', 'true').csv('s3a://bronze/credits')"
   ]
  },
  {
   "cell_type": "code",
   "execution_count": null,
   "id": "dbdf1e28-e5ce-493d-98e7-650ae496257f",
   "metadata": {
    "tags": []
   },
   "outputs": [],
   "source": [
    "df_titles.write.format('delta').save('s3a://silver/titles')\n",
    "df_credits.write.format('delta').save('s3a://silver/credits')"
   ]
  },
  {
   "cell_type": "markdown",
   "id": "3b263902-f38f-4e2f-b038-e0f699ca5e4a",
   "metadata": {},
   "source": [
    "# Processing Layer"
   ]
  },
  {
   "cell_type": "code",
   "execution_count": null,
   "id": "487370c3-67c3-47e1-b825-470d2efaa7c2",
   "metadata": {},
   "outputs": [],
   "source": [
    "df_titles_delta = spark.read.format('delta').load('s3a://silver/titles')\n",
    "df_credits_delta = spark.read.format('delta').load('s3a://silver/credits')"
   ]
  },
  {
   "cell_type": "code",
   "execution_count": null,
   "id": "586a2ba2-99ba-4e17-a1b3-5acb540561e6",
   "metadata": {},
   "outputs": [],
   "source": [
    "df_titles_delta.createOrReplaceTempView('df_titles')\n",
    "df_credits_delta.createOrReplaceTempView('df_credits')"
   ]
  },
  {
   "cell_type": "code",
   "execution_count": null,
   "id": "fe42ad87-bc89-4f55-aa26-d5f8d5899e71",
   "metadata": {},
   "outputs": [],
   "source": [
    "df_final = spark.sql('''\n",
    "    SELECT credits.name, COUNT(title) AS total \n",
    "    FROM df_titles AS titles \n",
    "    INNER JOIN df_credits AS credits \n",
    "    ON titles.id = credits.id \n",
    "    WHERE \n",
    "      titles.description LIKE '%war%' \n",
    "      AND\n",
    "      titles.type = 'MOVIE'\n",
    "    GROUP BY credits.name\n",
    "    ORDER BY total DESC\n",
    "''')"
   ]
  },
  {
   "cell_type": "code",
   "execution_count": null,
   "id": "af245ec6-8b65-4ee6-a39e-25e4c01e70f9",
   "metadata": {},
   "outputs": [],
   "source": [
    "df_final.write.format('delta').save('s3a://gold/war_movies_participation')"
   ]
  },
  {
   "cell_type": "markdown",
   "id": "474be187-5ed3-4b82-9538-0f76376eb0b6",
   "metadata": {},
   "source": [
    "# Kafka"
   ]
  },
  {
   "cell_type": "code",
   "execution_count": null,
   "id": "7dcf98c5-cb00-4dcc-a96f-c58d4feae70e",
   "metadata": {},
   "outputs": [],
   "source": [
    "# Subscribe to 1 topic\n",
    "kafka_df = spark \\\n",
    "  .readStream \\\n",
    "  .format(\"kafka\") \\\n",
    "  .option(\"kafka.bootstrap.servers\", \"kafka-kafka-bootstrap:9092\") \\\n",
    "  .option(\"subscribe\", \"spark_input\") \\\n",
    "  .load()"
   ]
  },
  {
   "cell_type": "code",
   "execution_count": null,
   "id": "d53e1e1c-abbe-484f-a750-959b5713d69f",
   "metadata": {},
   "outputs": [],
   "source": [
    "schema = StructType() \\\n",
    "      .add(\"name\", StringType()) \\\n",
    "      .add(\"idade\", IntegerType())"
   ]
  },
  {
   "cell_type": "code",
   "execution_count": null,
   "id": "3f923dda-1301-402e-8f19-edd8d086fbda",
   "metadata": {},
   "outputs": [],
   "source": [
    "df_person_string = kafka_df.selectExpr(\"CAST(key AS STRING)\", \"CAST(value AS STRING)\")\n",
    "df_person = df_person_string.select(from_json(col(\"value\"), schema).alias(\"data\")).select(\"data.*\")"
   ]
  },
  {
   "cell_type": "code",
   "execution_count": null,
   "id": "9eb82538-ecac-4995-8ff7-5d3f141d50d7",
   "metadata": {},
   "outputs": [],
   "source": [
    "df_person_final = df_person.select('name', 'idade').where('idade >= 18')"
   ]
  },
  {
   "cell_type": "code",
   "execution_count": null,
   "id": "b3230282-f253-410e-8d68-d04e55b9e7ec",
   "metadata": {},
   "outputs": [],
   "source": [
    "ds = df_person_final \\\n",
    "    .writeStream \\\n",
    "    .format(\"delta\") \\\n",
    "    .outputMode(\"append\") \\\n",
    "    .option(\"checkpointLocation\", \"/tmp/kafka_demo_delta\") \\\n",
    "    .start('s3a://gold/kafka_demo')"
   ]
  },
  {
   "cell_type": "code",
   "execution_count": null,
   "id": "1a070de5-a4d8-4f7c-a6e3-c0dfe421e075",
   "metadata": {},
   "outputs": [],
   "source": [
    "ds_kafka = df_person_final \\\n",
    "  .selectExpr(\"to_json(struct(*)) AS value\") \\\n",
    "  .writeStream \\\n",
    "  .format(\"kafka\") \\\n",
    "  .option(\"kafka.bootstrap.servers\", \"kafka-kafka-bootstrap:9092\") \\\n",
    "  .option(\"checkpointLocation\", \"/tmp/kafka_demo\") \\\n",
    "  .option(\"topic\", \"spark_output\") \\\n",
    "  .start()"
   ]
  },
  {
   "cell_type": "code",
   "execution_count": null,
   "id": "2d8ba560-c655-43f8-be3b-d41b03a5e329",
   "metadata": {},
   "outputs": [],
   "source": [
    "df_check_kafka = spark.read.format('delta').load('s3a://gold/kafka_demo')\n",
    "df_check_kafka.show()"
   ]
  },
  {
   "cell_type": "markdown",
   "id": "1a7f0a64-390d-4c20-8432-f9018773cdba",
   "metadata": {},
   "source": [
    "# Hive Metastore Tables"
   ]
  },
  {
   "cell_type": "code",
   "execution_count": null,
   "id": "5b71a376-c546-40f0-a97b-60940cff7fa0",
   "metadata": {},
   "outputs": [],
   "source": [
    "df_metastore = spark.read.table('gold.war_movies_participation')\n",
    "df_metastore.show()"
   ]
  }
 ],
 "metadata": {
  "kernelspec": {
   "display_name": "Python 3 (ipykernel)",
   "language": "python",
   "name": "python3"
  },
  "language_info": {
   "codemirror_mode": {
    "name": "ipython",
    "version": 3
   },
   "file_extension": ".py",
   "mimetype": "text/x-python",
   "name": "python",
   "nbconvert_exporter": "python",
   "pygments_lexer": "ipython3",
   "version": "3.9.2"
  }
 },
 "nbformat": 4,
 "nbformat_minor": 5
}
